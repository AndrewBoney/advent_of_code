{
 "cells": [
  {
   "cell_type": "code",
   "execution_count": 79,
   "metadata": {},
   "outputs": [],
   "source": [
    "import csv\n",
    "\n",
    "def read_csv(file_path):\n",
    "    # Initialize an empty list to store the rows\n",
    "    csv_data = []\n",
    "\n",
    "    # Open the file and read it using the csv module\n",
    "    # Open the file and read it\n",
    "    with open(file_path, mode='r', newline='', encoding='utf-8') as file:\n",
    "        csv_reader = csv.reader(file)\n",
    "        for row in csv_reader:\n",
    "            # Convert each item in the row to an integer, skipping empty cells\n",
    "            int_row = [int(item) for item in row if item.strip()]\n",
    "            csv_data.append(int_row)\n",
    "\n",
    "    return csv_data\n",
    "\n",
    "def read_txt(file_path):\n",
    "    # Open and read the input file\n",
    "    with open(file_path, \"r\") as f:\n",
    "        data = f.read()\n",
    "\n",
    "    return [[int(i) for i in line.split()] for line in data.split(\"\\n\")]"
   ]
  },
  {
   "cell_type": "code",
   "execution_count": 107,
   "metadata": {},
   "outputs": [],
   "source": [
    "test_data = [\n",
    "    [7,6,4,2,1],\n",
    "    [1,2,7,8,9],\n",
    "    [9,7,6,2,1],\n",
    "    [1,3,2,4,5],\n",
    "    [8,6,4,4,1],\n",
    "    [1,3,6,7,9]\n",
    "]"
   ]
  },
  {
   "cell_type": "code",
   "execution_count": 82,
   "metadata": {},
   "outputs": [],
   "source": [
    "data = read_txt(\"reports.txt\")"
   ]
  },
  {
   "cell_type": "markdown",
   "metadata": {},
   "source": [
    "# part 1"
   ]
  },
  {
   "cell_type": "code",
   "execution_count": null,
   "metadata": {},
   "outputs": [],
   "source": [
    "def is_safe(ls, log : bool = False):\n",
    "    for i in range(len(ls)-1):\n",
    "        diff = ls[i+1] - ls[i] \n",
    "        abs_diff = abs(diff)\n",
    "        increasing = diff > 0\n",
    "        gap_ok = (abs_diff >= 1) and (abs_diff <= 3)\n",
    "\n",
    "        if log:\n",
    "            print(\"iter:\", i)\n",
    "            print(\"diff:\", abs_diff)\n",
    "            print(\"gap_ok:\", gap_ok)\n",
    "            print(\"increasing:\", increasing)        \n",
    "        \n",
    "        if not gap_ok:\n",
    "            return False\n",
    "        \n",
    "        if i == 0:\n",
    "            last_increasing = increasing\n",
    "        else:\n",
    "            if increasing != last_increasing:\n",
    "                return False\n",
    "\n",
    "    return True    \n",
    "        \n",
    "def is_safe_count(ls):\n",
    "    return sum([is_safe(l) for l in ls])"
   ]
  },
  {
   "cell_type": "code",
   "execution_count": 81,
   "metadata": {},
   "outputs": [
    {
     "data": {
      "text/plain": [
       "True"
      ]
     },
     "execution_count": 81,
     "metadata": {},
     "output_type": "execute_result"
    }
   ],
   "source": [
    "is_safe_count(test_data) == 2"
   ]
  },
  {
   "cell_type": "code",
   "execution_count": 83,
   "metadata": {},
   "outputs": [
    {
     "data": {
      "text/plain": [
       "591"
      ]
     },
     "execution_count": 83,
     "metadata": {},
     "output_type": "execute_result"
    }
   ],
   "source": [
    "is_safe_count(data)"
   ]
  },
  {
   "cell_type": "markdown",
   "metadata": {},
   "source": [
    "# part 2"
   ]
  },
  {
   "cell_type": "code",
   "execution_count": null,
   "metadata": {},
   "outputs": [],
   "source": [
    "def is_safe_pt2(ls, log: bool = False):\n",
    "    \"\"\"Determines if a report is safe, returning safety status and indices of unsafe levels.\"\"\"\n",
    "    unsafe_ixs = []\n",
    "    for i in range(len(ls) - 1):\n",
    "        diff = ls[i + 1] - ls[i]\n",
    "        abs_diff = abs(diff)\n",
    "        increasing = diff > 0\n",
    "        gap_ok = (1 <= abs_diff <= 3)\n",
    "\n",
    "        if log:\n",
    "            print(f\"iter: {i}, diff: {abs_diff}, gap_ok: {gap_ok}, increasing: {increasing}\")\n",
    "\n",
    "        if not gap_ok:\n",
    "            unsafe_ixs.append(i)\n",
    "\n",
    "        if i == 0:\n",
    "            last_increasing = increasing\n",
    "        else:\n",
    "            if increasing != last_increasing:\n",
    "                unsafe_ixs.append(i)\n",
    "            last_increasing = increasing\n",
    "\n",
    "    # Return True if no unsafe indices, else return False and the list of unsafe indices\n",
    "    return len(unsafe_ixs) == 0, unsafe_ixs\n",
    "\n",
    "def is_safe_count_pt2(ls):\n",
    "    \"\"\"Counts the number of safe reports, accounting for the Problem Dampener.\"\"\"\n",
    "    total_safe_reports = 0\n",
    "\n",
    "    for report in ls:\n",
    "        # Check if the report is safe initially\n",
    "        safe, unsafe_ixs = is_safe_pt2(report)\n",
    "\n",
    "        if not safe:\n",
    "            # add final ix to remove if 2nd last is bad \n",
    "            if max(unsafe_ixs) == (len(report) - 1):\n",
    "                unsafe_ixs.append(len(report))\n",
    "\n",
    "            # Try removing each unsafe level and re-checking\n",
    "            for unsafe_ix in unsafe_ixs:                    \n",
    "                report_copy = report.copy()\n",
    "                report_copy.pop(unsafe_ix)\n",
    "                safe_enough, _ = is_safe_pt2(report_copy)\n",
    "\n",
    "                if safe_enough:\n",
    "                    safe = True\n",
    "                    break  # No need to check further if one removal makes it safe\n",
    "\n",
    "        # Add 1 to the count if the report is safe after checks\n",
    "        total_safe_reports += int(safe)\n",
    "\n",
    "    return total_safe_reports    "
   ]
  },
  {
   "cell_type": "code",
   "execution_count": 125,
   "metadata": {},
   "outputs": [
    {
     "data": {
      "text/plain": [
       "True"
      ]
     },
     "execution_count": 125,
     "metadata": {},
     "output_type": "execute_result"
    }
   ],
   "source": [
    "is_safe_count_pt2(test_data) == 4"
   ]
  },
  {
   "cell_type": "code",
   "execution_count": 126,
   "metadata": {},
   "outputs": [
    {
     "data": {
      "text/plain": [
       "609"
      ]
     },
     "execution_count": 126,
     "metadata": {},
     "output_type": "execute_result"
    }
   ],
   "source": [
    "is_safe_count_pt2(data)"
   ]
  }
 ],
 "metadata": {
  "kernelspec": {
   "display_name": ".venv",
   "language": "python",
   "name": "python3"
  },
  "language_info": {
   "codemirror_mode": {
    "name": "ipython",
    "version": 3
   },
   "file_extension": ".py",
   "mimetype": "text/x-python",
   "name": "python",
   "nbconvert_exporter": "python",
   "pygments_lexer": "ipython3",
   "version": "3.11.0"
  }
 },
 "nbformat": 4,
 "nbformat_minor": 2
}
