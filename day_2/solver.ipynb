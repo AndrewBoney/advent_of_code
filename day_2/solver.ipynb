{
 "cells": [
  {
   "cell_type": "code",
   "execution_count": null,
   "metadata": {},
   "outputs": [],
   "source": [
    "test_data = [\n",
    "    [7,6,4,2,1],\n",
    "    [1,2,7,8,9],\n",
    "    [9,7,6,2,1],\n",
    "    [1,3,2,4,5],\n",
    "    [8,6,4,4,1],\n",
    "    [1,3,6,7,9]\n",
    "]"
   ]
  },
  {
   "cell_type": "code",
   "execution_count": null,
   "metadata": {},
   "outputs": [],
   "source": [
    "def is_safe(ls):\n",
    "    for i in range(len(ls)-1):\n",
    "        diff = ls[i+1] - ls[i] \n",
    "        abs_diff = abs(diff)\n",
    "        increasing = diff > 0\n",
    "        gap_ok = (abs_diff >= 1)  (abs_diff <= 3)\n",
    "        if not gap_ok:\n",
    "            return False\n",
    "        if i == 0:\n",
    "            last_increasing = increasing\n",
    "        else:\n",
    "            if increasing != last_increasing:\n",
    "                return False\n",
    "            \n"
   ]
  },
  {
   "cell_type": "code",
   "execution_count": null,
   "metadata": {},
   "outputs": [],
   "source": []
  }
 ],
 "metadata": {
  "kernelspec": {
   "display_name": ".venv",
   "language": "python",
   "name": "python3"
  },
  "language_info": {
   "name": "python",
   "version": "3.9.9"
  }
 },
 "nbformat": 4,
 "nbformat_minor": 2
}
