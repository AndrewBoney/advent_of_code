{
 "cells": [
  {
   "cell_type": "code",
   "execution_count": 2,
   "metadata": {},
   "outputs": [],
   "source": [
    "import pandas as pd\n",
    "import polars as pl\n",
    "import numpy as np"
   ]
  },
  {
   "cell_type": "code",
   "execution_count": 3,
   "metadata": {},
   "outputs": [],
   "source": [
    "data = pl.read_csv(\"C:/projects/advent_of_code_2024/day_1/advent_of_code_day_1_locations.csv\", has_header = False, new_columns = [\"loc_1\", \"loc_2\"])\n",
    "data_pd = data.to_pandas()\n",
    "data_ls = [data[\"loc_1\"].to_list(), data[\"loc_2\"].to_list()]"
   ]
  },
  {
   "cell_type": "code",
   "execution_count": 4,
   "metadata": {},
   "outputs": [],
   "source": [
    "test_data = pl.DataFrame({\n",
    "    \"loc_1\" : [3, 4, 2, 1, 3, 3],\n",
    "    \"loc_2\" : [4, 3, 5, 3, 9, 3]    \n",
    "})\n",
    "test_data_pd = test_data.to_pandas()\n",
    "test_data_ls = [test_data[\"loc_1\"].to_list(), test_data[\"loc_2\"].to_list()]"
   ]
  },
  {
   "cell_type": "markdown",
   "metadata": {},
   "source": [
    "# part 1"
   ]
  },
  {
   "cell_type": "code",
   "execution_count": 7,
   "metadata": {},
   "outputs": [],
   "source": [
    "def part_1(data_ls):\n",
    "    #assert len(data_ls[0]) == len(data_ls[1])\n",
    "    ls_0, ls_1 = sorted(data_ls[0]), sorted(data_ls[1])\n",
    "    diff = [abs(ls_0[i] - ls_1[i]) for i in range(len(ls_0))]\n",
    "    return sum(diff)"
   ]
  },
  {
   "cell_type": "code",
   "execution_count": 9,
   "metadata": {},
   "outputs": [
    {
     "data": {
      "text/plain": [
       "True"
      ]
     },
     "execution_count": 9,
     "metadata": {},
     "output_type": "execute_result"
    }
   ],
   "source": [
    "part_1(test_data_ls) == 11"
   ]
  },
  {
   "cell_type": "code",
   "execution_count": 10,
   "metadata": {},
   "outputs": [
    {
     "data": {
      "text/plain": [
       "1580061"
      ]
     },
     "execution_count": 10,
     "metadata": {},
     "output_type": "execute_result"
    }
   ],
   "source": [
    "part_1(data_ls)"
   ]
  },
  {
   "cell_type": "markdown",
   "metadata": {},
   "source": [
    "# part 2"
   ]
  },
  {
   "cell_type": "code",
   "execution_count": 31,
   "metadata": {},
   "outputs": [],
   "source": [
    "def part_2(data):\n",
    "    counts = data.group_by(\"loc_2\").len().sort(\"len\")\n",
    "\n",
    "    return (data\n",
    "        .join(counts, how = \"left\", left_on = \"loc_1\", right_on = \"loc_2\")\n",
    "        .with_columns(\n",
    "            #pl.col(\"len\").fill_null(0)\n",
    "            (pl.col(\"loc_1\") * pl.col(\"len\")).alias(\"total\")\n",
    "        )\n",
    "        [\"total\"].sum()\n",
    "    )"
   ]
  },
  {
   "cell_type": "code",
   "execution_count": 33,
   "metadata": {},
   "outputs": [
    {
     "data": {
      "text/plain": [
       "True"
      ]
     },
     "execution_count": 33,
     "metadata": {},
     "output_type": "execute_result"
    }
   ],
   "source": [
    "part_2(test_data) == 31"
   ]
  },
  {
   "cell_type": "code",
   "execution_count": 34,
   "metadata": {},
   "outputs": [
    {
     "data": {
      "text/plain": [
       "23046913"
      ]
     },
     "execution_count": 34,
     "metadata": {},
     "output_type": "execute_result"
    }
   ],
   "source": [
    "part_2(data)"
   ]
  }
 ],
 "metadata": {
  "kernelspec": {
   "display_name": ".venv",
   "language": "python",
   "name": "python3"
  },
  "language_info": {
   "codemirror_mode": {
    "name": "ipython",
    "version": 3
   },
   "file_extension": ".py",
   "mimetype": "text/x-python",
   "name": "python",
   "nbconvert_exporter": "python",
   "pygments_lexer": "ipython3",
   "version": "3.9.9"
  }
 },
 "nbformat": 4,
 "nbformat_minor": 2
}
