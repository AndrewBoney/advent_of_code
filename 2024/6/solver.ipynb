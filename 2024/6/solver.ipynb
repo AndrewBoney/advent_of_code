{
 "cells": [
  {
   "cell_type": "code",
   "execution_count": null,
   "metadata": {},
   "outputs": [],
   "source": [
    "grid = [[val for val in row] for row in open(\"../../2024/6/data.in\").read().splitlines()] \n",
    "#grid = [[val for val in row] for row in open(\"../../2024/6/example.in\").read().splitlines()]\n",
    "rows, cols = len(grid), len(grid[0])\n",
    "lookup_direction = {\n",
    "    \"^\" : (-1, 0),\n",
    "    \">\" : (0, 1),\n",
    "    \"<\" : (0, -1),\n",
    "    \"v\" : (1, 0)\n",
    "}\n",
    "\n",
    "lookup_move_key = {\n",
    "    '^' : \">\", \n",
    "    '>' : \"v\",\n",
    "    '<' : \"^\",\n",
    "    'v' : \"<\"\n",
    "}\n",
    "\n",
    "lookup_move_direction = {k : lookup_direction[v] for k, v in lookup_move_key.items()}\n",
    "def move_guard(grid, marks, row, col):\n",
    "    key = grid[row][col] \n",
    "    if key in ['^', '>', '<', 'v']:\n",
    "        marks.append((row, col))\n",
    "\n",
    "        move_rows, move_cols = lookup_direction[key]\n",
    "        \n",
    "        new_row = row + move_rows\n",
    "        new_col = col + move_cols\n",
    "        \n",
    "        if (new_row in [-1, rows]) or (new_col in [-1, cols]):\n",
    "            return   \n",
    "\n",
    "        if grid[new_row][new_col] == \"#\":\n",
    "            move_rows, move_cols = lookup_move_direction[key]\n",
    "            key = lookup_move_key[key]\n",
    "\n",
    "            new_row = row + move_rows\n",
    "            new_col = col + move_cols\n",
    "        \n",
    "        grid[row][col] = \".\"\n",
    "        grid[new_row][new_col] = key\n",
    "\n",
    "    print(\"\\n\".join([\"\".join(col) for col in grid]))\n",
    "    print(\"\\n\\n\\n\")\n",
    "    return move_guard(grid, marks, new_row, new_col)\n",
    "for row in range(rows):\n",
    "    for col in range(cols):\n",
    "        key = grid[row][col]\n",
    "        if key in ['^', '>', '<', 'v']:\n",
    "            start_row = row\n",
    "            start_col = col\n",
    "marks = []\n",
    "og_grid = grid.copy()\n",
    "move_guard(grid, marks, start_row, start_col)\n",
    "len(set(marks))"
   ]
  }
 ],
 "metadata": {
  "kernelspec": {
   "display_name": ".venv",
   "language": "python",
   "name": "python3"
  },
  "language_info": {
   "codemirror_mode": {
    "name": "ipython",
    "version": 3
   },
   "file_extension": ".py",
   "mimetype": "text/x-python",
   "name": "python",
   "nbconvert_exporter": "python",
   "pygments_lexer": "ipython3",
   "version": "3.11.0"
  }
 },
 "nbformat": 4,
 "nbformat_minor": 2
}
