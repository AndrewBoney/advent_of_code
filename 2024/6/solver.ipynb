{
 "cells": [
  {
   "cell_type": "code",
   "execution_count": 88,
   "metadata": {},
   "outputs": [],
   "source": [
    "import os\n",
    "import sys"
   ]
  },
  {
   "cell_type": "code",
   "execution_count": 105,
   "metadata": {},
   "outputs": [],
   "source": [
    "#grid = [[val for val in row] for row in open(\"../../2024/6/data.in\").read().splitlines()] \n",
    "grid = [[val for val in row] for row in open(\"../../2024/6/example.in\").read().splitlines()]"
   ]
  },
  {
   "cell_type": "code",
   "execution_count": 106,
   "metadata": {},
   "outputs": [],
   "source": [
    "rows, cols = len(grid), len(grid[0])"
   ]
  },
  {
   "cell_type": "code",
   "execution_count": null,
   "metadata": {},
   "outputs": [],
   "source": [
    "lookup_direction = {\n",
    "    \"^\" : (-1, 0),\n",
    "    \">\" : (0, 1),\n",
    "    \"<\" : (0, -1),\n",
    "    \"v\" : (1, 0)\n",
    "}\n",
    "\n",
    "lookup_move_key = {\n",
    "    '^' : \">\", \n",
    "    '>' : \"v\",\n",
    "    '<' : \"^\",\n",
    "    'v' : \"<\"\n",
    "}\n",
    "\n",
    "lookup_move_direction = {k : lookup_direction[v] for k, v in lookup_move_key.items()}"
   ]
  },
  {
   "cell_type": "code",
   "execution_count": 108,
   "metadata": {},
   "outputs": [],
   "source": [
    "def move_guard(grid, marks, row, col):\n",
    "    key = grid[row][col] \n",
    "    if key in ['^', '>', '<', 'v']:\n",
    "        marks.append((row, col))\n",
    "\n",
    "        move_rows, move_cols = lookup_direction[key]\n",
    "        \n",
    "        new_row = row + move_rows\n",
    "        new_col = col + move_cols\n",
    "        \n",
    "        if (new_row in [-1, rows]) or (new_col in [-1, cols]):\n",
    "            return   \n",
    "\n",
    "        if grid[new_row][new_col] == \"#\":\n",
    "            move_rows, move_cols = lookup_move_direction[key]\n",
    "            key = lookup_move_key[key]\n",
    "\n",
    "            new_row = row + move_rows\n",
    "            new_col = col + move_cols\n",
    "        \n",
    "        grid[row][col] = \".\"\n",
    "        grid[new_row][new_col] = key\n",
    "\n",
    "    print(\"\\n\".join([\"\".join(col) for col in grid]))\n",
    "    print(\"\\n\\n\\n\")\n",
    "    return move_guard(grid, marks, new_row, new_col)"
   ]
  },
  {
   "cell_type": "code",
   "execution_count": 109,
   "metadata": {},
   "outputs": [],
   "source": [
    "for row in range(rows):\n",
    "    for col in range(cols):\n",
    "        key = grid[row][col]\n",
    "        if key in ['^', '>', '<', 'v']:\n",
    "            start_row = row\n",
    "            start_col = col"
   ]
  },
  {
   "cell_type": "code",
   "execution_count": 110,
   "metadata": {},
   "outputs": [
    {
     "name": "stdout",
     "output_type": "stream",
     "text": [
      "....#.....\n",
      ".........#\n",
      "..........\n",
      "..#.......\n",
      ".......#..\n",
      "..........\n",
      ".#........\n",
      "....^...#.\n",
      "#.........\n",
      "......#...\n",
      "\n",
      "\n",
      "\n",
      "\n",
      "....#.....\n",
      ".........#\n",
      "..........\n",
      "..#.......\n",
      ".......#..\n",
      "..........\n",
      ".#........\n",
      "........#.\n",
      "#...^.....\n",
      "......#...\n",
      "\n",
      "\n",
      "\n",
      "\n",
      "....#.....\n",
      ".........#\n",
      "..........\n",
      "..#.......\n",
      ".......#..\n",
      "..........\n",
      ".#........\n",
      "........#.\n",
      "#.........\n",
      "....^.#...\n",
      "\n",
      "\n",
      "\n",
      "\n"
     ]
    }
   ],
   "source": [
    "marks = []\n",
    "moving_grid = grid.copy()\n",
    "move_guard(moving_grid, marks, start_row, start_col)"
   ]
  },
  {
   "cell_type": "code",
   "execution_count": 103,
   "metadata": {},
   "outputs": [
    {
     "name": "stdout",
     "output_type": "stream",
     "text": [
      "....#.....\n",
      ".........#\n",
      "..........\n",
      "..#.......\n",
      ".......#..\n",
      "..........\n",
      ".#........\n",
      "........#.\n",
      "#.........\n",
      ".^....#...\n"
     ]
    }
   ],
   "source": [
    "print(\"\\n\".join([\"\".join(col) for col in moving_grid]))"
   ]
  },
  {
   "cell_type": "code",
   "execution_count": 104,
   "metadata": {},
   "outputs": [
    {
     "data": {
      "text/plain": [
       "1"
      ]
     },
     "execution_count": 104,
     "metadata": {},
     "output_type": "execute_result"
    }
   ],
   "source": [
    "len(marks)"
   ]
  },
  {
   "cell_type": "code",
   "execution_count": 52,
   "metadata": {},
   "outputs": [],
   "source": [
    "present = False\n",
    "while present:\n",
    "    grid = data.copy()\n",
    "    marks = []\n",
    "    for row in len(range(rows)):\n",
    "        for col in len(range(cols)):\n",
    "            val = grid[row][col] \n",
    "            if val in ['^', '>', '<', 'v']:\n",
    "                move_rows, move_cols = lookup[val]\n",
    "                grid[row + move_rows][col + move_cols] = val\n",
    "                grid[row][col] = \".\"\n",
    "                marks.append((row, col))"
   ]
  },
  {
   "cell_type": "code",
   "execution_count": 36,
   "metadata": {},
   "outputs": [
    {
     "ename": "NameError",
     "evalue": "name 'marks' is not defined",
     "output_type": "error",
     "traceback": [
      "\u001b[1;31m---------------------------------------------------------------------------\u001b[0m",
      "\u001b[1;31mNameError\u001b[0m                                 Traceback (most recent call last)",
      "Cell \u001b[1;32mIn[36], line 1\u001b[0m\n\u001b[1;32m----> 1\u001b[0m \u001b[43mmarks\u001b[49m\n",
      "\u001b[1;31mNameError\u001b[0m: name 'marks' is not defined"
     ]
    }
   ],
   "source": [
    "marks"
   ]
  }
 ],
 "metadata": {
  "kernelspec": {
   "display_name": ".venv",
   "language": "python",
   "name": "python3"
  },
  "language_info": {
   "codemirror_mode": {
    "name": "ipython",
    "version": 3
   },
   "file_extension": ".py",
   "mimetype": "text/x-python",
   "name": "python",
   "nbconvert_exporter": "python",
   "pygments_lexer": "ipython3",
   "version": "3.11.0"
  }
 },
 "nbformat": 4,
 "nbformat_minor": 2
}
